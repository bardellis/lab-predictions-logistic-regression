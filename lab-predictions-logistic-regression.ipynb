{
 "cells": [
  {
   "cell_type": "markdown",
   "id": "ab78dc22",
   "metadata": {},
   "source": [
    "# lab-predictions-logistic-regression\n",
    "In this lab, you will be using the Sakila database of movie rentals. In order to optimize our inventory, we would like to know which films will be rented. We are asked to create a model to predict it. So we use the information we have from May 2005 to create the model.\n",
    "\n",
    "Instructions\n",
    "* 1.1 Create a query or queries to extract the information you think may be relevant for building the prediction model. It should include some film features and some rental features (X).\n",
    "* 1.2 Create a query to get the list of all unique film titles and a boolean indicating if it was rented (rental_date) in May 2005. (Create new column called - 'rented_in_may'). This will be our TARGET (y) variable.\n",
    "* 1.3 Read the data into a Pandas dataframe. At this point you should have 1000 rows. Number of columns depends on the number of features you chose.\n",
    "* 2 Analyze extracted features (X) and transform them. You may need to encode some categorical variables, or scale numerical variables.\n",
    "* 3.1 Create a logistic regression model to predict 'rented_in_may' from the cleaned data.\n",
    "* 3.2 Evaluate the results."
   ]
  },
  {
   "cell_type": "code",
   "execution_count": 1,
   "id": "90cca979",
   "metadata": {},
   "outputs": [
    {
     "name": "stdout",
     "output_type": "stream",
     "text": [
      "········\n"
     ]
    }
   ],
   "source": [
    "# prep: import modules and get pwd\n",
    "import pymysql\n",
    "from sqlalchemy import create_engine\n",
    "import numpy as np\n",
    "import pandas as pd\n",
    "import getpass  # To get the password without showing the input\n",
    "password = getpass.getpass()"
   ]
  },
  {
   "cell_type": "markdown",
   "id": "96e32455",
   "metadata": {},
   "source": [
    "## Lab | predictions-logistic-regression | 1 | Get data"
   ]
  },
  {
   "cell_type": "code",
   "execution_count": 2,
   "id": "0bcbbba9",
   "metadata": {},
   "outputs": [
    {
     "data": {
      "text/html": [
       "<div>\n",
       "<style scoped>\n",
       "    .dataframe tbody tr th:only-of-type {\n",
       "        vertical-align: middle;\n",
       "    }\n",
       "\n",
       "    .dataframe tbody tr th {\n",
       "        vertical-align: top;\n",
       "    }\n",
       "\n",
       "    .dataframe thead th {\n",
       "        text-align: right;\n",
       "    }\n",
       "</style>\n",
       "<table border=\"1\" class=\"dataframe\">\n",
       "  <thead>\n",
       "    <tr style=\"text-align: right;\">\n",
       "      <th></th>\n",
       "      <th>title</th>\n",
       "      <th>rental_duration</th>\n",
       "      <th>rental_rate</th>\n",
       "      <th>length</th>\n",
       "      <th>rating</th>\n",
       "      <th>st_availability</th>\n",
       "      <th>av_store_1</th>\n",
       "      <th>av_store_2</th>\n",
       "      <th>num_rentals</th>\n",
       "    </tr>\n",
       "  </thead>\n",
       "  <tbody>\n",
       "    <tr>\n",
       "      <th>0</th>\n",
       "      <td>ACADEMY DINOSAUR</td>\n",
       "      <td>6</td>\n",
       "      <td>0.99</td>\n",
       "      <td>86</td>\n",
       "      <td>PG</td>\n",
       "      <td>2</td>\n",
       "      <td>1</td>\n",
       "      <td>1</td>\n",
       "      <td>23</td>\n",
       "    </tr>\n",
       "    <tr>\n",
       "      <th>1</th>\n",
       "      <td>ACE GOLDFINGER</td>\n",
       "      <td>3</td>\n",
       "      <td>4.99</td>\n",
       "      <td>48</td>\n",
       "      <td>G</td>\n",
       "      <td>1</td>\n",
       "      <td>0</td>\n",
       "      <td>1</td>\n",
       "      <td>7</td>\n",
       "    </tr>\n",
       "    <tr>\n",
       "      <th>2</th>\n",
       "      <td>ADAPTATION HOLES</td>\n",
       "      <td>7</td>\n",
       "      <td>2.99</td>\n",
       "      <td>50</td>\n",
       "      <td>NC-17</td>\n",
       "      <td>1</td>\n",
       "      <td>0</td>\n",
       "      <td>1</td>\n",
       "      <td>12</td>\n",
       "    </tr>\n",
       "    <tr>\n",
       "      <th>3</th>\n",
       "      <td>AFFAIR PREJUDICE</td>\n",
       "      <td>5</td>\n",
       "      <td>2.99</td>\n",
       "      <td>117</td>\n",
       "      <td>G</td>\n",
       "      <td>2</td>\n",
       "      <td>1</td>\n",
       "      <td>1</td>\n",
       "      <td>23</td>\n",
       "    </tr>\n",
       "    <tr>\n",
       "      <th>4</th>\n",
       "      <td>AFRICAN EGG</td>\n",
       "      <td>6</td>\n",
       "      <td>2.99</td>\n",
       "      <td>130</td>\n",
       "      <td>G</td>\n",
       "      <td>1</td>\n",
       "      <td>0</td>\n",
       "      <td>1</td>\n",
       "      <td>12</td>\n",
       "    </tr>\n",
       "  </tbody>\n",
       "</table>\n",
       "</div>"
      ],
      "text/plain": [
       "              title  rental_duration  rental_rate  length rating  \\\n",
       "0  ACADEMY DINOSAUR                6         0.99      86     PG   \n",
       "1    ACE GOLDFINGER                3         4.99      48      G   \n",
       "2  ADAPTATION HOLES                7         2.99      50  NC-17   \n",
       "3  AFFAIR PREJUDICE                5         2.99     117      G   \n",
       "4       AFRICAN EGG                6         2.99     130      G   \n",
       "\n",
       "   st_availability  av_store_1  av_store_2  num_rentals  \n",
       "0                2           1           1           23  \n",
       "1                1           0           1            7  \n",
       "2                1           0           1           12  \n",
       "3                2           1           1           23  \n",
       "4                1           0           1           12  "
      ]
     },
     "metadata": {},
     "output_type": "display_data"
    },
    {
     "data": {
      "text/plain": [
       "(1000, 9)"
      ]
     },
     "metadata": {},
     "output_type": "display_data"
    }
   ],
   "source": [
    "# 1.1 Create a query or queries to extract the information you think may be relevant for building the prediction model.\n",
    "# It should include some film features and some rental features (X).\n",
    "\n",
    "connection_string = 'mysql+pymysql://root:' + password + '@localhost/sakila'\n",
    "engine = create_engine(connection_string)\n",
    "\n",
    "query0 = '''SELECT\n",
    "    f.title, f.rental_duration, f.rental_rate, f.length, f.rating,\n",
    "    COUNT(DISTINCT i.store_id) as st_availability,\n",
    "    COUNT(DISTINCT CASE WHEN i.store_id = 1 THEN 1 ELSE NULL END) as av_store_1,\n",
    "    COUNT(DISTINCT CASE WHEN i.store_id = 2 THEN 1 ELSE NULL END) as av_store_2,\n",
    "    COUNT(r.rental_date) AS num_rentals\n",
    "FROM film AS f\n",
    "LEFT JOIN inventory AS i ON f.film_id = i.film_id\n",
    "LEFT JOIN rental AS r ON i.inventory_id = r.inventory_id\n",
    "GROUP BY f.title, f.rental_duration, f.rental_rate, f.length, f.rating;'''\n",
    "\n",
    "data0 = pd.read_sql_query(query0, engine)\n",
    "display(data0.head(),data0.shape)"
   ]
  },
  {
   "cell_type": "code",
   "execution_count": 3,
   "id": "18380111",
   "metadata": {},
   "outputs": [
    {
     "data": {
      "text/html": [
       "<div>\n",
       "<style scoped>\n",
       "    .dataframe tbody tr th:only-of-type {\n",
       "        vertical-align: middle;\n",
       "    }\n",
       "\n",
       "    .dataframe tbody tr th {\n",
       "        vertical-align: top;\n",
       "    }\n",
       "\n",
       "    .dataframe thead th {\n",
       "        text-align: right;\n",
       "    }\n",
       "</style>\n",
       "<table border=\"1\" class=\"dataframe\">\n",
       "  <thead>\n",
       "    <tr style=\"text-align: right;\">\n",
       "      <th></th>\n",
       "      <th>title</th>\n",
       "      <th>rented_in_may</th>\n",
       "    </tr>\n",
       "  </thead>\n",
       "  <tbody>\n",
       "    <tr>\n",
       "      <th>0</th>\n",
       "      <td>ACADEMY DINOSAUR</td>\n",
       "      <td>1</td>\n",
       "    </tr>\n",
       "    <tr>\n",
       "      <th>1</th>\n",
       "      <td>ACE GOLDFINGER</td>\n",
       "      <td>0</td>\n",
       "    </tr>\n",
       "    <tr>\n",
       "      <th>2</th>\n",
       "      <td>ADAPTATION HOLES</td>\n",
       "      <td>1</td>\n",
       "    </tr>\n",
       "    <tr>\n",
       "      <th>3</th>\n",
       "      <td>AFFAIR PREJUDICE</td>\n",
       "      <td>1</td>\n",
       "    </tr>\n",
       "    <tr>\n",
       "      <th>4</th>\n",
       "      <td>AFRICAN EGG</td>\n",
       "      <td>1</td>\n",
       "    </tr>\n",
       "  </tbody>\n",
       "</table>\n",
       "</div>"
      ],
      "text/plain": [
       "              title  rented_in_may\n",
       "0  ACADEMY DINOSAUR              1\n",
       "1    ACE GOLDFINGER              0\n",
       "2  ADAPTATION HOLES              1\n",
       "3  AFFAIR PREJUDICE              1\n",
       "4       AFRICAN EGG              1"
      ]
     },
     "execution_count": 3,
     "metadata": {},
     "output_type": "execute_result"
    }
   ],
   "source": [
    "# 1.2 get the data. Create a query to get the list of all unique film titles and a boolean indicating \n",
    "# if it was rented (rental_date) in May 2005. (Create new column called - 'rented_in_may'). \n",
    "# This will be our TARGET (y) variable.\n",
    "\n",
    "query1 = '''SELECT\n",
    "    f.title,\n",
    "    MAX(CASE WHEN r.rental_date >= '2005-05-01' AND r.rental_date < '2005-06-01' THEN 1 ELSE 0 END) AS rented_in_may\n",
    "FROM\n",
    "    sakila.film AS f\n",
    "LEFT JOIN\n",
    "    sakila.inventory AS i ON f.film_id = i.film_id\n",
    "LEFT JOIN\n",
    "    sakila.rental AS r ON i.inventory_id = r.inventory_id\n",
    "GROUP BY\n",
    "    f.title;'''\n",
    "data1 = pd.read_sql_query(query1, engine)\n",
    "data1.head()"
   ]
  },
  {
   "cell_type": "code",
   "execution_count": 4,
   "id": "c220de17",
   "metadata": {},
   "outputs": [
    {
     "data": {
      "text/html": [
       "<div>\n",
       "<style scoped>\n",
       "    .dataframe tbody tr th:only-of-type {\n",
       "        vertical-align: middle;\n",
       "    }\n",
       "\n",
       "    .dataframe tbody tr th {\n",
       "        vertical-align: top;\n",
       "    }\n",
       "\n",
       "    .dataframe thead th {\n",
       "        text-align: right;\n",
       "    }\n",
       "</style>\n",
       "<table border=\"1\" class=\"dataframe\">\n",
       "  <thead>\n",
       "    <tr style=\"text-align: right;\">\n",
       "      <th></th>\n",
       "      <th>title</th>\n",
       "      <th>rental_duration</th>\n",
       "      <th>rental_rate</th>\n",
       "      <th>length</th>\n",
       "      <th>rating</th>\n",
       "      <th>rented_in_may</th>\n",
       "      <th>st_availability</th>\n",
       "      <th>av_store_1</th>\n",
       "      <th>av_store_2</th>\n",
       "      <th>num_rentals</th>\n",
       "    </tr>\n",
       "  </thead>\n",
       "  <tbody>\n",
       "    <tr>\n",
       "      <th>0</th>\n",
       "      <td>ACADEMY DINOSAUR</td>\n",
       "      <td>6</td>\n",
       "      <td>0.99</td>\n",
       "      <td>86</td>\n",
       "      <td>PG</td>\n",
       "      <td>1</td>\n",
       "      <td>2</td>\n",
       "      <td>1</td>\n",
       "      <td>1</td>\n",
       "      <td>23</td>\n",
       "    </tr>\n",
       "    <tr>\n",
       "      <th>1</th>\n",
       "      <td>ACE GOLDFINGER</td>\n",
       "      <td>3</td>\n",
       "      <td>4.99</td>\n",
       "      <td>48</td>\n",
       "      <td>G</td>\n",
       "      <td>0</td>\n",
       "      <td>1</td>\n",
       "      <td>0</td>\n",
       "      <td>1</td>\n",
       "      <td>7</td>\n",
       "    </tr>\n",
       "    <tr>\n",
       "      <th>2</th>\n",
       "      <td>ADAPTATION HOLES</td>\n",
       "      <td>7</td>\n",
       "      <td>2.99</td>\n",
       "      <td>50</td>\n",
       "      <td>NC-17</td>\n",
       "      <td>1</td>\n",
       "      <td>1</td>\n",
       "      <td>0</td>\n",
       "      <td>1</td>\n",
       "      <td>12</td>\n",
       "    </tr>\n",
       "    <tr>\n",
       "      <th>3</th>\n",
       "      <td>AFFAIR PREJUDICE</td>\n",
       "      <td>5</td>\n",
       "      <td>2.99</td>\n",
       "      <td>117</td>\n",
       "      <td>G</td>\n",
       "      <td>1</td>\n",
       "      <td>2</td>\n",
       "      <td>1</td>\n",
       "      <td>1</td>\n",
       "      <td>23</td>\n",
       "    </tr>\n",
       "    <tr>\n",
       "      <th>4</th>\n",
       "      <td>AFRICAN EGG</td>\n",
       "      <td>6</td>\n",
       "      <td>2.99</td>\n",
       "      <td>130</td>\n",
       "      <td>G</td>\n",
       "      <td>1</td>\n",
       "      <td>1</td>\n",
       "      <td>0</td>\n",
       "      <td>1</td>\n",
       "      <td>12</td>\n",
       "    </tr>\n",
       "  </tbody>\n",
       "</table>\n",
       "</div>"
      ],
      "text/plain": [
       "              title  rental_duration  rental_rate  length rating  \\\n",
       "0  ACADEMY DINOSAUR                6         0.99      86     PG   \n",
       "1    ACE GOLDFINGER                3         4.99      48      G   \n",
       "2  ADAPTATION HOLES                7         2.99      50  NC-17   \n",
       "3  AFFAIR PREJUDICE                5         2.99     117      G   \n",
       "4       AFRICAN EGG                6         2.99     130      G   \n",
       "\n",
       "   rented_in_may  st_availability  av_store_1  av_store_2  num_rentals  \n",
       "0              1                2           1           1           23  \n",
       "1              0                1           0           1            7  \n",
       "2              1                1           0           1           12  \n",
       "3              1                2           1           1           23  \n",
       "4              1                1           0           1           12  "
      ]
     },
     "metadata": {},
     "output_type": "display_data"
    },
    {
     "data": {
      "text/plain": [
       "(1000, 10)"
      ]
     },
     "metadata": {},
     "output_type": "display_data"
    }
   ],
   "source": [
    "# 1.3 Read the data into a Pandas dataframe. At this point you should have 1000 rows. \n",
    "# Number of columns depends on the number of features you chose.\n",
    "\n",
    "query = '''SELECT\n",
    "    f.title, f.rental_duration, f.rental_rate, f.length, f.rating,\n",
    "    MAX(IF(MONTH(r.rental_date) = 5 AND YEAR(r.rental_date) = 2005, 1, 0)) AS rented_in_may,\n",
    "    COUNT(DISTINCT i.store_id) as st_availability,\n",
    "    COUNT(DISTINCT CASE WHEN i.store_id = 1 THEN 1 ELSE NULL END) as av_store_1,\n",
    "    COUNT(DISTINCT CASE WHEN i.store_id = 2 THEN 1 ELSE NULL END) as av_store_2,\n",
    "    COUNT(r.rental_date) AS num_rentals\n",
    "FROM film AS f\n",
    "LEFT JOIN inventory AS i ON f.film_id = i.film_id\n",
    "LEFT JOIN rental AS r ON i.inventory_id = r.inventory_id\n",
    "GROUP BY f.title, f.rental_duration, f.rental_rate, f.length, f.rating;'''\n",
    "\n",
    "data = pd.read_sql_query(query, engine)\n",
    "display(data.head(),data.shape)"
   ]
  },
  {
   "cell_type": "markdown",
   "id": "6a35d1ea",
   "metadata": {},
   "source": [
    "## Lab | predictions-logistic-regression | 2 | Data Cleaning and Formatting"
   ]
  },
  {
   "cell_type": "markdown",
   "id": "07b942ba",
   "metadata": {},
   "source": [
    "### Lab | predictions-logistic-regression | Data Cleaning and Formatting | Cleaning invalid values"
   ]
  },
  {
   "cell_type": "markdown",
   "id": "72abcf30",
   "metadata": {},
   "source": [
    "### Lab | predictions-logistic-regression | Data Cleaning and Formatting | Formatting data types"
   ]
  },
  {
   "cell_type": "code",
   "execution_count": 5,
   "id": "a898e4ec",
   "metadata": {},
   "outputs": [
    {
     "data": {
      "text/plain": [
       "title               object\n",
       "rental_duration      int64\n",
       "rental_rate        float64\n",
       "length               int64\n",
       "rating              object\n",
       "rented_in_may        int64\n",
       "st_availability      int64\n",
       "av_store_1           int64\n",
       "av_store_2           int64\n",
       "num_rentals          int64\n",
       "dtype: object"
      ]
     },
     "execution_count": 5,
     "metadata": {},
     "output_type": "execute_result"
    }
   ],
   "source": [
    "data.dtypes"
   ]
  },
  {
   "cell_type": "code",
   "execution_count": 6,
   "id": "1f5f91ea",
   "metadata": {},
   "outputs": [],
   "source": [
    "# rented_in_may - as object\n",
    "# data['rented_in_may']=data['rented_in_may'].astype(object)\n",
    "# data['rented_in_may'].unique()"
   ]
  },
  {
   "cell_type": "code",
   "execution_count": 7,
   "id": "88e06cf0",
   "metadata": {},
   "outputs": [],
   "source": [
    "# av_store_1 - as object\n",
    "# data['av_store_1']=data['av_store_1'].astype(object)\n",
    "# data['av_store_1'].unique()"
   ]
  },
  {
   "cell_type": "code",
   "execution_count": 8,
   "id": "9d98f418",
   "metadata": {},
   "outputs": [],
   "source": [
    "# av_store_2 - as object\n",
    "# data['av_store_2']=data['av_store_2'].astype(object)\n",
    "# data['av_store_2'].unique()"
   ]
  },
  {
   "cell_type": "markdown",
   "id": "97f4e32d",
   "metadata": {},
   "source": [
    "### Lab | predictions-logistic-regression | Data Cleaning and Formatting | Dealing with null values"
   ]
  },
  {
   "cell_type": "code",
   "execution_count": 9,
   "id": "a7c9c389",
   "metadata": {},
   "outputs": [
    {
     "name": "stdout",
     "output_type": "stream",
     "text": [
      "Columns with null values: []\n"
     ]
    },
    {
     "data": {
      "text/plain": [
       "title              0\n",
       "rental_duration    0\n",
       "rental_rate        0\n",
       "length             0\n",
       "rating             0\n",
       "rented_in_may      0\n",
       "st_availability    0\n",
       "av_store_1         0\n",
       "av_store_2         0\n",
       "num_rentals        0\n",
       "dtype: int64"
      ]
     },
     "execution_count": 9,
     "metadata": {},
     "output_type": "execute_result"
    }
   ],
   "source": [
    "columns_with_null_values = data.columns[data.isna().any()].tolist()\n",
    "print(\"Columns with null values:\",columns_with_null_values)\n",
    "data.isna().sum()"
   ]
  },
  {
   "cell_type": "markdown",
   "id": "76b050ed",
   "metadata": {},
   "source": [
    "### Lab | predictions-logistic-regression | Data Cleaning and Formatting | Dealing with duplicates"
   ]
  },
  {
   "cell_type": "code",
   "execution_count": 10,
   "id": "ed8fa74b",
   "metadata": {},
   "outputs": [
    {
     "name": "stdout",
     "output_type": "stream",
     "text": [
      "(1000, 10)\n"
     ]
    }
   ],
   "source": [
    "# Drop all duplicate rows and keep the first occurrence\n",
    "data = data.drop_duplicates()\n",
    "print(data.shape)"
   ]
  },
  {
   "cell_type": "markdown",
   "id": "038b6fb2",
   "metadata": {},
   "source": [
    "### Lab | predictions-logistic-regression | Data Cleaning and Formatting | Explore values"
   ]
  },
  {
   "cell_type": "code",
   "execution_count": 11,
   "id": "8ebe4c12",
   "metadata": {},
   "outputs": [
    {
     "data": {
      "text/plain": [
       "Index(['title', 'rental_duration', 'rental_rate', 'length', 'rating',\n",
       "       'rented_in_may', 'st_availability', 'av_store_1', 'av_store_2',\n",
       "       'num_rentals'],\n",
       "      dtype='object')"
      ]
     },
     "execution_count": 11,
     "metadata": {},
     "output_type": "execute_result"
    }
   ],
   "source": [
    "data.columns"
   ]
  },
  {
   "cell_type": "code",
   "execution_count": 12,
   "id": "19d2bd47",
   "metadata": {},
   "outputs": [
    {
     "data": {
      "text/plain": [
       "6    212\n",
       "3    203\n",
       "4    203\n",
       "7    191\n",
       "5    191\n",
       "Name: rental_duration, dtype: int64"
      ]
     },
     "execution_count": 12,
     "metadata": {},
     "output_type": "execute_result"
    }
   ],
   "source": [
    "# rental_duration\n",
    "data['rental_duration']=data['rental_duration'].astype(object)\n",
    "data['rental_duration'].value_counts()"
   ]
  },
  {
   "cell_type": "code",
   "execution_count": 13,
   "id": "617cc8e6",
   "metadata": {},
   "outputs": [
    {
     "data": {
      "text/plain": [
       "0.99    341\n",
       "4.99    336\n",
       "2.99    323\n",
       "Name: rental_rate, dtype: int64"
      ]
     },
     "execution_count": 13,
     "metadata": {},
     "output_type": "execute_result"
    }
   ],
   "source": [
    "# rental_rate\n",
    "data['rental_rate'].value_counts()"
   ]
  },
  {
   "cell_type": "code",
   "execution_count": 14,
   "id": "ba8ac64f",
   "metadata": {},
   "outputs": [
    {
     "data": {
      "text/plain": [
       "85     17\n",
       "179    13\n",
       "112    13\n",
       "84     13\n",
       "73     12\n",
       "       ..\n",
       "81      3\n",
       "96      2\n",
       "66      2\n",
       "95      2\n",
       "55      2\n",
       "Name: length, Length: 140, dtype: int64"
      ]
     },
     "execution_count": 14,
     "metadata": {},
     "output_type": "execute_result"
    }
   ],
   "source": [
    "# length\n",
    "data['length'].value_counts()"
   ]
  },
  {
   "cell_type": "code",
   "execution_count": 15,
   "id": "537f664a",
   "metadata": {},
   "outputs": [
    {
     "data": {
      "text/plain": [
       "PG-13    223\n",
       "NC-17    210\n",
       "R        195\n",
       "PG       194\n",
       "G        178\n",
       "Name: rating, dtype: int64"
      ]
     },
     "execution_count": 15,
     "metadata": {},
     "output_type": "execute_result"
    }
   ],
   "source": [
    "# rating\n",
    "data['rating'].value_counts()"
   ]
  },
  {
   "cell_type": "code",
   "execution_count": 16,
   "id": "dc7afbc0",
   "metadata": {},
   "outputs": [
    {
     "data": {
      "text/plain": [
       "2    563\n",
       "1    395\n",
       "0     42\n",
       "Name: st_availability, dtype: int64"
      ]
     },
     "execution_count": 16,
     "metadata": {},
     "output_type": "execute_result"
    }
   ],
   "source": [
    "# st_availability\n",
    "data['st_availability'].value_counts()"
   ]
  },
  {
   "cell_type": "markdown",
   "id": "2723b0d0",
   "metadata": {},
   "source": [
    "## Lab | predictions-logistic-regression | 3 | Data exploratory"
   ]
  },
  {
   "cell_type": "code",
   "execution_count": 17,
   "id": "06d1b51b",
   "metadata": {},
   "outputs": [],
   "source": [
    "import matplotlib.pyplot as plt\n",
    "import seaborn as sns"
   ]
  },
  {
   "cell_type": "code",
   "execution_count": 18,
   "id": "78baddac",
   "metadata": {},
   "outputs": [
    {
     "data": {
      "text/plain": [
       "Index(['rental_rate', 'length', 'rented_in_may', 'st_availability',\n",
       "       'av_store_1', 'av_store_2', 'num_rentals'],\n",
       "      dtype='object')"
      ]
     },
     "execution_count": 18,
     "metadata": {},
     "output_type": "execute_result"
    }
   ],
   "source": [
    "numerical=data.select_dtypes('number')\n",
    "numerical.columns"
   ]
  },
  {
   "cell_type": "code",
   "execution_count": 19,
   "id": "6a0c3f82",
   "metadata": {},
   "outputs": [
    {
     "data": {
      "image/png": "[encoded data removed]",
      "text/plain": [
       "<Figure size 432x288 with 1 Axes>"
      ]
     },
     "metadata": {
      "needs_background": "light"
     },
     "output_type": "display_data"
    },
    {
     "data": {
      "image/png": "[encoded data removed]",
      "text/plain": [
       "<Figure size 432x288 with 1 Axes>"
      ]
     },
     "metadata": {
      "needs_background": "light"
     },
     "output_type": "display_data"
    },
    {
     "data": {
      "image/png": "[encoded data removed]",
      "text/plain": [
       "<Figure size 432x288 with 1 Axes>"
      ]
     },
     "metadata": {
      "needs_background": "light"
     },
     "output_type": "display_data"
    },
    {
     "data": {
      "image/png": "[encoded data removed]",
      "text/plain": [
       "<Figure size 432x288 with 1 Axes>"
      ]
     },
     "metadata": {
      "needs_background": "light"
     },
     "output_type": "display_data"
    }
   ],
   "source": [
    "# look at the scale and distribution of values\n",
    "sns.histplot(data['rental_duration'], kde=True)\n",
    "plt.show()\n",
    "\n",
    "sns.histplot(data['num_rentals'], kde=True)\n",
    "plt.show()\n",
    "\n",
    "sns.histplot(data['length'], kde=True)\n",
    "plt.show()\n",
    "\n",
    "sns.histplot(data['rental_rate'], kde=True)\n",
    "plt.show()\n"
   ]
  },
  {
   "cell_type": "markdown",
   "id": "559e9f15",
   "metadata": {},
   "source": [
    "## Lab | predictions-logistic-regression | 4 | Data exploratory | Multicolinearity"
   ]
  },
  {
   "cell_type": "code",
   "execution_count": 20,
   "id": "98868c92",
   "metadata": {},
   "outputs": [
    {
     "data": {
      "image/png": "[encoded data removed]",
      "text/plain": [
       "<Figure size 720x576 with 2 Axes>"
      ]
     },
     "metadata": {
      "needs_background": "light"
     },
     "output_type": "display_data"
    }
   ],
   "source": [
    "corr_matrix=data.corr()  # default\n",
    "fig, ax = plt.subplots(figsize=(10, 8))\n",
    "ax = sns.heatmap(corr_matrix, annot=True)\n",
    "plt.show()\n",
    "\n",
    "# rental rate, rental duration, lenth and rented in may"
   ]
  },
  {
   "cell_type": "code",
   "execution_count": 21,
   "id": "f5ac0dd0",
   "metadata": {},
   "outputs": [
    {
     "data": {
      "text/plain": [
       "Index(['title', 'rental_duration', 'rental_rate', 'length', 'rating',\n",
       "       'rented_in_may', 'st_availability', 'av_store_1', 'av_store_2',\n",
       "       'num_rentals'],\n",
       "      dtype='object')"
      ]
     },
     "execution_count": 21,
     "metadata": {},
     "output_type": "execute_result"
    }
   ],
   "source": [
    "data.columns"
   ]
  },
  {
   "cell_type": "code",
   "execution_count": 22,
   "id": "c79c18eb",
   "metadata": {},
   "outputs": [],
   "source": [
    "data = data.drop(['title','av_store_1','st_availability','av_store_2'], axis=1)"
   ]
  },
  {
   "cell_type": "markdown",
   "id": "1339453c",
   "metadata": {},
   "source": [
    "## Lab | predictions-logistic-regression | 5 | Processing data"
   ]
  },
  {
   "cell_type": "markdown",
   "id": "158486cb",
   "metadata": {},
   "source": [
    "#### Processing Data\n",
    "(Further processing...)\n",
    "* X-y split.\n",
    "* Scaling (numerical)."
   ]
  },
  {
   "cell_type": "markdown",
   "id": "0ed41442",
   "metadata": {},
   "source": [
    "### Lab | predictions-logistic-regression | Processing data | X-y split"
   ]
  },
  {
   "cell_type": "code",
   "execution_count": 23,
   "id": "67e732eb",
   "metadata": {},
   "outputs": [],
   "source": [
    "# X/y split feature/target\n",
    "y = data['rented_in_may']\n",
    "X = data.drop('rented_in_may', axis=1)"
   ]
  },
  {
   "cell_type": "code",
   "execution_count": 24,
   "id": "bed893c1",
   "metadata": {},
   "outputs": [],
   "source": [
    "#Segregation between numerical and categorical variables\n",
    "X_num = X.select_dtypes(include = np.number)\n",
    "X_cat = X.select_dtypes(include = object)"
   ]
  },
  {
   "cell_type": "markdown",
   "id": "b5053825",
   "metadata": {},
   "source": [
    "## Lab | predictions-logistic-regression | 6 | train-test split"
   ]
  },
  {
   "cell_type": "code",
   "execution_count": 25,
   "id": "388b9efa",
   "metadata": {},
   "outputs": [],
   "source": [
    "# split train and test\n",
    "from sklearn.model_selection import train_test_split\n",
    "X_train, X_test, y_train, y_test = train_test_split(X, y, test_size=0.2, random_state=42)"
   ]
  },
  {
   "cell_type": "code",
   "execution_count": 26,
   "id": "26aca48d",
   "metadata": {},
   "outputs": [
    {
     "data": {
      "text/html": [
       "<div>\n",
       "<style scoped>\n",
       "    .dataframe tbody tr th:only-of-type {\n",
       "        vertical-align: middle;\n",
       "    }\n",
       "\n",
       "    .dataframe tbody tr th {\n",
       "        vertical-align: top;\n",
       "    }\n",
       "\n",
       "    .dataframe thead th {\n",
       "        text-align: right;\n",
       "    }\n",
       "</style>\n",
       "<table border=\"1\" class=\"dataframe\">\n",
       "  <thead>\n",
       "    <tr style=\"text-align: right;\">\n",
       "      <th></th>\n",
       "      <th>rental_duration</th>\n",
       "      <th>rental_rate</th>\n",
       "      <th>length</th>\n",
       "      <th>rating</th>\n",
       "      <th>rented_in_may</th>\n",
       "      <th>num_rentals</th>\n",
       "    </tr>\n",
       "  </thead>\n",
       "  <tbody>\n",
       "    <tr>\n",
       "      <th>0</th>\n",
       "      <td>6</td>\n",
       "      <td>0.99</td>\n",
       "      <td>86</td>\n",
       "      <td>PG</td>\n",
       "      <td>1</td>\n",
       "      <td>23</td>\n",
       "    </tr>\n",
       "    <tr>\n",
       "      <th>1</th>\n",
       "      <td>3</td>\n",
       "      <td>4.99</td>\n",
       "      <td>48</td>\n",
       "      <td>G</td>\n",
       "      <td>0</td>\n",
       "      <td>7</td>\n",
       "    </tr>\n",
       "    <tr>\n",
       "      <th>2</th>\n",
       "      <td>7</td>\n",
       "      <td>2.99</td>\n",
       "      <td>50</td>\n",
       "      <td>NC-17</td>\n",
       "      <td>1</td>\n",
       "      <td>12</td>\n",
       "    </tr>\n",
       "    <tr>\n",
       "      <th>3</th>\n",
       "      <td>5</td>\n",
       "      <td>2.99</td>\n",
       "      <td>117</td>\n",
       "      <td>G</td>\n",
       "      <td>1</td>\n",
       "      <td>23</td>\n",
       "    </tr>\n",
       "    <tr>\n",
       "      <th>4</th>\n",
       "      <td>6</td>\n",
       "      <td>2.99</td>\n",
       "      <td>130</td>\n",
       "      <td>G</td>\n",
       "      <td>1</td>\n",
       "      <td>12</td>\n",
       "    </tr>\n",
       "    <tr>\n",
       "      <th>...</th>\n",
       "      <td>...</td>\n",
       "      <td>...</td>\n",
       "      <td>...</td>\n",
       "      <td>...</td>\n",
       "      <td>...</td>\n",
       "      <td>...</td>\n",
       "    </tr>\n",
       "    <tr>\n",
       "      <th>995</th>\n",
       "      <td>6</td>\n",
       "      <td>0.99</td>\n",
       "      <td>183</td>\n",
       "      <td>G</td>\n",
       "      <td>0</td>\n",
       "      <td>7</td>\n",
       "    </tr>\n",
       "    <tr>\n",
       "      <th>996</th>\n",
       "      <td>4</td>\n",
       "      <td>0.99</td>\n",
       "      <td>179</td>\n",
       "      <td>NC-17</td>\n",
       "      <td>0</td>\n",
       "      <td>6</td>\n",
       "    </tr>\n",
       "    <tr>\n",
       "      <th>997</th>\n",
       "      <td>6</td>\n",
       "      <td>0.99</td>\n",
       "      <td>105</td>\n",
       "      <td>NC-17</td>\n",
       "      <td>1</td>\n",
       "      <td>9</td>\n",
       "    </tr>\n",
       "    <tr>\n",
       "      <th>998</th>\n",
       "      <td>5</td>\n",
       "      <td>2.99</td>\n",
       "      <td>101</td>\n",
       "      <td>R</td>\n",
       "      <td>1</td>\n",
       "      <td>17</td>\n",
       "    </tr>\n",
       "    <tr>\n",
       "      <th>999</th>\n",
       "      <td>3</td>\n",
       "      <td>4.99</td>\n",
       "      <td>50</td>\n",
       "      <td>NC-17</td>\n",
       "      <td>1</td>\n",
       "      <td>31</td>\n",
       "    </tr>\n",
       "  </tbody>\n",
       "</table>\n",
       "<p>1000 rows × 6 columns</p>\n",
       "</div>"
      ],
      "text/plain": [
       "    rental_duration  rental_rate  length rating  rented_in_may  num_rentals\n",
       "0                 6         0.99      86     PG              1           23\n",
       "1                 3         4.99      48      G              0            7\n",
       "2                 7         2.99      50  NC-17              1           12\n",
       "3                 5         2.99     117      G              1           23\n",
       "4                 6         2.99     130      G              1           12\n",
       "..              ...          ...     ...    ...            ...          ...\n",
       "995               6         0.99     183      G              0            7\n",
       "996               4         0.99     179  NC-17              0            6\n",
       "997               6         0.99     105  NC-17              1            9\n",
       "998               5         2.99     101      R              1           17\n",
       "999               3         4.99      50  NC-17              1           31\n",
       "\n",
       "[1000 rows x 6 columns]"
      ]
     },
     "execution_count": 26,
     "metadata": {},
     "output_type": "execute_result"
    }
   ],
   "source": [
    "data"
   ]
  },
  {
   "cell_type": "markdown",
   "id": "e0222c58",
   "metadata": {},
   "source": [
    "### Lab | predictions-logistic-regression | Processing data | Scaling numerical"
   ]
  },
  {
   "cell_type": "code",
   "execution_count": 27,
   "id": "03d60630",
   "metadata": {},
   "outputs": [
    {
     "data": {
      "text/html": [
       "<div>\n",
       "<style scoped>\n",
       "    .dataframe tbody tr th:only-of-type {\n",
       "        vertical-align: middle;\n",
       "    }\n",
       "\n",
       "    .dataframe tbody tr th {\n",
       "        vertical-align: top;\n",
       "    }\n",
       "\n",
       "    .dataframe thead th {\n",
       "        text-align: right;\n",
       "    }\n",
       "</style>\n",
       "<table border=\"1\" class=\"dataframe\">\n",
       "  <thead>\n",
       "    <tr style=\"text-align: right;\">\n",
       "      <th></th>\n",
       "      <th>rental_rate</th>\n",
       "      <th>length</th>\n",
       "      <th>num_rentals</th>\n",
       "    </tr>\n",
       "  </thead>\n",
       "  <tbody>\n",
       "    <tr>\n",
       "      <th>0</th>\n",
       "      <td>0.5</td>\n",
       "      <td>0.258993</td>\n",
       "      <td>0.264706</td>\n",
       "    </tr>\n",
       "    <tr>\n",
       "      <th>1</th>\n",
       "      <td>0.5</td>\n",
       "      <td>0.136691</td>\n",
       "      <td>0.411765</td>\n",
       "    </tr>\n",
       "    <tr>\n",
       "      <th>2</th>\n",
       "      <td>0.0</td>\n",
       "      <td>0.489209</td>\n",
       "      <td>0.470588</td>\n",
       "    </tr>\n",
       "    <tr>\n",
       "      <th>3</th>\n",
       "      <td>0.5</td>\n",
       "      <td>0.179856</td>\n",
       "      <td>0.147059</td>\n",
       "    </tr>\n",
       "    <tr>\n",
       "      <th>4</th>\n",
       "      <td>0.5</td>\n",
       "      <td>0.280576</td>\n",
       "      <td>0.294118</td>\n",
       "    </tr>\n",
       "    <tr>\n",
       "      <th>...</th>\n",
       "      <td>...</td>\n",
       "      <td>...</td>\n",
       "      <td>...</td>\n",
       "    </tr>\n",
       "    <tr>\n",
       "      <th>795</th>\n",
       "      <td>0.5</td>\n",
       "      <td>0.122302</td>\n",
       "      <td>0.147059</td>\n",
       "    </tr>\n",
       "    <tr>\n",
       "      <th>796</th>\n",
       "      <td>1.0</td>\n",
       "      <td>0.733813</td>\n",
       "      <td>0.676471</td>\n",
       "    </tr>\n",
       "    <tr>\n",
       "      <th>797</th>\n",
       "      <td>1.0</td>\n",
       "      <td>0.467626</td>\n",
       "      <td>0.617647</td>\n",
       "    </tr>\n",
       "    <tr>\n",
       "      <th>798</th>\n",
       "      <td>0.0</td>\n",
       "      <td>0.546763</td>\n",
       "      <td>0.558824</td>\n",
       "    </tr>\n",
       "    <tr>\n",
       "      <th>799</th>\n",
       "      <td>1.0</td>\n",
       "      <td>0.625899</td>\n",
       "      <td>1.000000</td>\n",
       "    </tr>\n",
       "  </tbody>\n",
       "</table>\n",
       "<p>800 rows × 3 columns</p>\n",
       "</div>"
      ],
      "text/plain": [
       "     rental_rate    length  num_rentals\n",
       "0            0.5  0.258993     0.264706\n",
       "1            0.5  0.136691     0.411765\n",
       "2            0.0  0.489209     0.470588\n",
       "3            0.5  0.179856     0.147059\n",
       "4            0.5  0.280576     0.294118\n",
       "..           ...       ...          ...\n",
       "795          0.5  0.122302     0.147059\n",
       "796          1.0  0.733813     0.676471\n",
       "797          1.0  0.467626     0.617647\n",
       "798          0.0  0.546763     0.558824\n",
       "799          1.0  0.625899     1.000000\n",
       "\n",
       "[800 rows x 3 columns]"
      ]
     },
     "execution_count": 27,
     "metadata": {},
     "output_type": "execute_result"
    }
   ],
   "source": [
    "# split numericals and categoricals: X_train_num, X_train_cat, X_test_num, X_test_cat\n",
    "import numpy as np\n",
    "from sklearn.preprocessing import MinMaxScaler\n",
    "# from sklearn.preprocessing import StandardScaler\n",
    "\n",
    "X_train_num = X_train.select_dtypes(include = np.number)\n",
    "\n",
    "# Scaling data\n",
    "transformer = MinMaxScaler().fit(X_train_num) # need to keep transformer\n",
    "X_train_normalized = transformer.transform(X_train_num)\n",
    "X_train_norm = pd.DataFrame(X_train_normalized, columns=X_num.columns)\n",
    "X_train_norm"
   ]
  },
  {
   "cell_type": "markdown",
   "id": "b02ebba8",
   "metadata": {},
   "source": [
    "### Lab | predictions-logistic-regression | Processing data | Enconding categoricals"
   ]
  },
  {
   "cell_type": "code",
   "execution_count": 28,
   "id": "bf6d5063",
   "metadata": {},
   "outputs": [],
   "source": [
    "X_train_cat = X_train.select_dtypes(include = object)\n",
    "X_test_cat  = X_test.select_dtypes(include = object)"
   ]
  },
  {
   "cell_type": "code",
   "execution_count": 29,
   "id": "1d0ce92c",
   "metadata": {},
   "outputs": [
    {
     "data": {
      "text/html": [
       "<div>\n",
       "<style scoped>\n",
       "    .dataframe tbody tr th:only-of-type {\n",
       "        vertical-align: middle;\n",
       "    }\n",
       "\n",
       "    .dataframe tbody tr th {\n",
       "        vertical-align: top;\n",
       "    }\n",
       "\n",
       "    .dataframe thead th {\n",
       "        text-align: right;\n",
       "    }\n",
       "</style>\n",
       "<table border=\"1\" class=\"dataframe\">\n",
       "  <thead>\n",
       "    <tr style=\"text-align: right;\">\n",
       "      <th></th>\n",
       "      <th>rental_duration_4</th>\n",
       "      <th>rental_duration_5</th>\n",
       "      <th>rental_duration_6</th>\n",
       "      <th>rental_duration_7</th>\n",
       "      <th>rating_NC-17</th>\n",
       "      <th>rating_PG</th>\n",
       "      <th>rating_PG-13</th>\n",
       "      <th>rating_R</th>\n",
       "    </tr>\n",
       "  </thead>\n",
       "  <tbody>\n",
       "    <tr>\n",
       "      <th>0</th>\n",
       "      <td>1.0</td>\n",
       "      <td>0.0</td>\n",
       "      <td>0.0</td>\n",
       "      <td>0.0</td>\n",
       "      <td>0.0</td>\n",
       "      <td>0.0</td>\n",
       "      <td>0.0</td>\n",
       "      <td>1.0</td>\n",
       "    </tr>\n",
       "    <tr>\n",
       "      <th>1</th>\n",
       "      <td>0.0</td>\n",
       "      <td>0.0</td>\n",
       "      <td>0.0</td>\n",
       "      <td>0.0</td>\n",
       "      <td>0.0</td>\n",
       "      <td>1.0</td>\n",
       "      <td>0.0</td>\n",
       "      <td>0.0</td>\n",
       "    </tr>\n",
       "    <tr>\n",
       "      <th>2</th>\n",
       "      <td>0.0</td>\n",
       "      <td>0.0</td>\n",
       "      <td>1.0</td>\n",
       "      <td>0.0</td>\n",
       "      <td>1.0</td>\n",
       "      <td>0.0</td>\n",
       "      <td>0.0</td>\n",
       "      <td>0.0</td>\n",
       "    </tr>\n",
       "    <tr>\n",
       "      <th>3</th>\n",
       "      <td>0.0</td>\n",
       "      <td>0.0</td>\n",
       "      <td>0.0</td>\n",
       "      <td>0.0</td>\n",
       "      <td>0.0</td>\n",
       "      <td>0.0</td>\n",
       "      <td>1.0</td>\n",
       "      <td>0.0</td>\n",
       "    </tr>\n",
       "    <tr>\n",
       "      <th>4</th>\n",
       "      <td>1.0</td>\n",
       "      <td>0.0</td>\n",
       "      <td>0.0</td>\n",
       "      <td>0.0</td>\n",
       "      <td>0.0</td>\n",
       "      <td>1.0</td>\n",
       "      <td>0.0</td>\n",
       "      <td>0.0</td>\n",
       "    </tr>\n",
       "    <tr>\n",
       "      <th>...</th>\n",
       "      <td>...</td>\n",
       "      <td>...</td>\n",
       "      <td>...</td>\n",
       "      <td>...</td>\n",
       "      <td>...</td>\n",
       "      <td>...</td>\n",
       "      <td>...</td>\n",
       "      <td>...</td>\n",
       "    </tr>\n",
       "    <tr>\n",
       "      <th>795</th>\n",
       "      <td>1.0</td>\n",
       "      <td>0.0</td>\n",
       "      <td>0.0</td>\n",
       "      <td>0.0</td>\n",
       "      <td>0.0</td>\n",
       "      <td>0.0</td>\n",
       "      <td>0.0</td>\n",
       "      <td>0.0</td>\n",
       "    </tr>\n",
       "    <tr>\n",
       "      <th>796</th>\n",
       "      <td>0.0</td>\n",
       "      <td>1.0</td>\n",
       "      <td>0.0</td>\n",
       "      <td>0.0</td>\n",
       "      <td>0.0</td>\n",
       "      <td>0.0</td>\n",
       "      <td>0.0</td>\n",
       "      <td>0.0</td>\n",
       "    </tr>\n",
       "    <tr>\n",
       "      <th>797</th>\n",
       "      <td>0.0</td>\n",
       "      <td>0.0</td>\n",
       "      <td>0.0</td>\n",
       "      <td>0.0</td>\n",
       "      <td>0.0</td>\n",
       "      <td>0.0</td>\n",
       "      <td>0.0</td>\n",
       "      <td>1.0</td>\n",
       "    </tr>\n",
       "    <tr>\n",
       "      <th>798</th>\n",
       "      <td>1.0</td>\n",
       "      <td>0.0</td>\n",
       "      <td>0.0</td>\n",
       "      <td>0.0</td>\n",
       "      <td>1.0</td>\n",
       "      <td>0.0</td>\n",
       "      <td>0.0</td>\n",
       "      <td>0.0</td>\n",
       "    </tr>\n",
       "    <tr>\n",
       "      <th>799</th>\n",
       "      <td>0.0</td>\n",
       "      <td>0.0</td>\n",
       "      <td>0.0</td>\n",
       "      <td>1.0</td>\n",
       "      <td>0.0</td>\n",
       "      <td>1.0</td>\n",
       "      <td>0.0</td>\n",
       "      <td>0.0</td>\n",
       "    </tr>\n",
       "  </tbody>\n",
       "</table>\n",
       "<p>800 rows × 8 columns</p>\n",
       "</div>"
      ],
      "text/plain": [
       "     rental_duration_4  rental_duration_5  rental_duration_6  \\\n",
       "0                  1.0                0.0                0.0   \n",
       "1                  0.0                0.0                0.0   \n",
       "2                  0.0                0.0                1.0   \n",
       "3                  0.0                0.0                0.0   \n",
       "4                  1.0                0.0                0.0   \n",
       "..                 ...                ...                ...   \n",
       "795                1.0                0.0                0.0   \n",
       "796                0.0                1.0                0.0   \n",
       "797                0.0                0.0                0.0   \n",
       "798                1.0                0.0                0.0   \n",
       "799                0.0                0.0                0.0   \n",
       "\n",
       "     rental_duration_7  rating_NC-17  rating_PG  rating_PG-13  rating_R  \n",
       "0                  0.0           0.0        0.0           0.0       1.0  \n",
       "1                  0.0           0.0        1.0           0.0       0.0  \n",
       "2                  0.0           1.0        0.0           0.0       0.0  \n",
       "3                  0.0           0.0        0.0           1.0       0.0  \n",
       "4                  0.0           0.0        1.0           0.0       0.0  \n",
       "..                 ...           ...        ...           ...       ...  \n",
       "795                0.0           0.0        0.0           0.0       0.0  \n",
       "796                0.0           0.0        0.0           0.0       0.0  \n",
       "797                0.0           0.0        0.0           0.0       1.0  \n",
       "798                0.0           1.0        0.0           0.0       0.0  \n",
       "799                1.0           0.0        1.0           0.0       0.0  \n",
       "\n",
       "[800 rows x 8 columns]"
      ]
     },
     "execution_count": 29,
     "metadata": {},
     "output_type": "execute_result"
    }
   ],
   "source": [
    "# encoding  categoricals\n",
    "from sklearn.preprocessing import OneHotEncoder\n",
    "encoder = OneHotEncoder(drop='first').fit(X_train_cat)\n",
    "encoded_cat = encoder.transform(X_train_cat).toarray()\n",
    "cols = encoder.get_feature_names_out(input_features=X_train_cat.columns)\n",
    "# reuse encoder \n",
    "X_train_cat = pd.DataFrame(encoded_cat, columns=cols)\n",
    "X_train_cat"
   ]
  },
  {
   "cell_type": "code",
   "execution_count": 30,
   "id": "6cb910cf",
   "metadata": {},
   "outputs": [
    {
     "data": {
      "text/plain": [
       "array([[0.5       , 0.25899281, 0.26470588, ..., 0.        , 0.        ,\n",
       "        1.        ],\n",
       "       [0.5       , 0.13669065, 0.41176471, ..., 1.        , 0.        ,\n",
       "        0.        ],\n",
       "       [0.        , 0.48920863, 0.47058824, ..., 0.        , 0.        ,\n",
       "        0.        ],\n",
       "       ...,\n",
       "       [1.        , 0.4676259 , 0.61764706, ..., 0.        , 0.        ,\n",
       "        1.        ],\n",
       "       [0.        , 0.54676259, 0.55882353, ..., 0.        , 0.        ,\n",
       "        0.        ],\n",
       "       [1.        , 0.62589928, 1.        , ..., 1.        , 0.        ,\n",
       "        0.        ]])"
      ]
     },
     "execution_count": 30,
     "metadata": {},
     "output_type": "execute_result"
    }
   ],
   "source": [
    "X_train_transformed = np.concatenate([X_train_norm, X_train_cat], axis=1)\n",
    "X_train_transformed"
   ]
  },
  {
   "cell_type": "markdown",
   "id": "dd9ae320",
   "metadata": {},
   "source": [
    "### Lab | predictions-logistic-regression | Processing data | Scaling (numerical)"
   ]
  },
  {
   "cell_type": "code",
   "execution_count": 31,
   "id": "833a95cd",
   "metadata": {},
   "outputs": [
    {
     "data": {
      "text/html": [
       "<div>\n",
       "<style scoped>\n",
       "    .dataframe tbody tr th:only-of-type {\n",
       "        vertical-align: middle;\n",
       "    }\n",
       "\n",
       "    .dataframe tbody tr th {\n",
       "        vertical-align: top;\n",
       "    }\n",
       "\n",
       "    .dataframe thead th {\n",
       "        text-align: right;\n",
       "    }\n",
       "</style>\n",
       "<table border=\"1\" class=\"dataframe\">\n",
       "  <thead>\n",
       "    <tr style=\"text-align: right;\">\n",
       "      <th></th>\n",
       "      <th>rental_rate</th>\n",
       "      <th>length</th>\n",
       "      <th>num_rentals</th>\n",
       "    </tr>\n",
       "  </thead>\n",
       "  <tbody>\n",
       "    <tr>\n",
       "      <th>0</th>\n",
       "      <td>0.5</td>\n",
       "      <td>0.654676</td>\n",
       "      <td>0.294118</td>\n",
       "    </tr>\n",
       "    <tr>\n",
       "      <th>1</th>\n",
       "      <td>0.0</td>\n",
       "      <td>0.949640</td>\n",
       "      <td>0.970588</td>\n",
       "    </tr>\n",
       "    <tr>\n",
       "      <th>2</th>\n",
       "      <td>0.0</td>\n",
       "      <td>0.251799</td>\n",
       "      <td>0.705882</td>\n",
       "    </tr>\n",
       "    <tr>\n",
       "      <th>3</th>\n",
       "      <td>1.0</td>\n",
       "      <td>0.798561</td>\n",
       "      <td>0.382353</td>\n",
       "    </tr>\n",
       "    <tr>\n",
       "      <th>4</th>\n",
       "      <td>1.0</td>\n",
       "      <td>0.402878</td>\n",
       "      <td>0.676471</td>\n",
       "    </tr>\n",
       "  </tbody>\n",
       "</table>\n",
       "</div>"
      ],
      "text/plain": [
       "   rental_rate    length  num_rentals\n",
       "0          0.5  0.654676     0.294118\n",
       "1          0.0  0.949640     0.970588\n",
       "2          0.0  0.251799     0.705882\n",
       "3          1.0  0.798561     0.382353\n",
       "4          1.0  0.402878     0.676471"
      ]
     },
     "execution_count": 31,
     "metadata": {},
     "output_type": "execute_result"
    }
   ],
   "source": [
    "#Transformation of test data\n",
    "\n",
    "X_test_num = X_test.select_dtypes(include = np.number)\n",
    "\n",
    "# Scaling data\n",
    "# Using the transformer fitted previously on the training data\n",
    "X_test_normalized = transformer.transform(X_test_num)\n",
    "X_test_norm = pd.DataFrame(X_test_normalized,columns = X_test_num.columns)\n",
    "X_test_norm.head()"
   ]
  },
  {
   "cell_type": "code",
   "execution_count": 32,
   "id": "457b4293",
   "metadata": {},
   "outputs": [
    {
     "data": {
      "text/plain": [
       "Index(['rental_duration_4', 'rental_duration_5', 'rental_duration_6',\n",
       "       'rental_duration_7', 'rating_NC-17', 'rating_PG', 'rating_PG-13',\n",
       "       'rating_R'],\n",
       "      dtype='object')"
      ]
     },
     "execution_count": 32,
     "metadata": {},
     "output_type": "execute_result"
    }
   ],
   "source": [
    "X_train_cat.columns"
   ]
  },
  {
   "cell_type": "code",
   "execution_count": 33,
   "id": "b90c568d",
   "metadata": {},
   "outputs": [
    {
     "data": {
      "text/plain": [
       "Index(['rental_duration', 'rating'], dtype='object')"
      ]
     },
     "execution_count": 33,
     "metadata": {},
     "output_type": "execute_result"
    }
   ],
   "source": [
    "X_test_cat.columns"
   ]
  },
  {
   "cell_type": "code",
   "execution_count": 34,
   "id": "e500cadb",
   "metadata": {},
   "outputs": [
    {
     "data": {
      "text/html": [
       "<div>\n",
       "<style scoped>\n",
       "    .dataframe tbody tr th:only-of-type {\n",
       "        vertical-align: middle;\n",
       "    }\n",
       "\n",
       "    .dataframe tbody tr th {\n",
       "        vertical-align: top;\n",
       "    }\n",
       "\n",
       "    .dataframe thead th {\n",
       "        text-align: right;\n",
       "    }\n",
       "</style>\n",
       "<table border=\"1\" class=\"dataframe\">\n",
       "  <thead>\n",
       "    <tr style=\"text-align: right;\">\n",
       "      <th></th>\n",
       "      <th>rental_duration_4</th>\n",
       "      <th>rental_duration_5</th>\n",
       "      <th>rental_duration_6</th>\n",
       "      <th>rental_duration_7</th>\n",
       "      <th>rating_NC-17</th>\n",
       "      <th>rating_PG</th>\n",
       "      <th>rating_PG-13</th>\n",
       "      <th>rating_R</th>\n",
       "    </tr>\n",
       "  </thead>\n",
       "  <tbody>\n",
       "    <tr>\n",
       "      <th>0</th>\n",
       "      <td>1.0</td>\n",
       "      <td>0.0</td>\n",
       "      <td>0.0</td>\n",
       "      <td>0.0</td>\n",
       "      <td>1.0</td>\n",
       "      <td>0.0</td>\n",
       "      <td>0.0</td>\n",
       "      <td>0.0</td>\n",
       "    </tr>\n",
       "    <tr>\n",
       "      <th>1</th>\n",
       "      <td>0.0</td>\n",
       "      <td>0.0</td>\n",
       "      <td>0.0</td>\n",
       "      <td>0.0</td>\n",
       "      <td>0.0</td>\n",
       "      <td>0.0</td>\n",
       "      <td>1.0</td>\n",
       "      <td>0.0</td>\n",
       "    </tr>\n",
       "    <tr>\n",
       "      <th>2</th>\n",
       "      <td>0.0</td>\n",
       "      <td>0.0</td>\n",
       "      <td>0.0</td>\n",
       "      <td>1.0</td>\n",
       "      <td>1.0</td>\n",
       "      <td>0.0</td>\n",
       "      <td>0.0</td>\n",
       "      <td>0.0</td>\n",
       "    </tr>\n",
       "    <tr>\n",
       "      <th>3</th>\n",
       "      <td>0.0</td>\n",
       "      <td>1.0</td>\n",
       "      <td>0.0</td>\n",
       "      <td>0.0</td>\n",
       "      <td>0.0</td>\n",
       "      <td>0.0</td>\n",
       "      <td>1.0</td>\n",
       "      <td>0.0</td>\n",
       "    </tr>\n",
       "    <tr>\n",
       "      <th>4</th>\n",
       "      <td>0.0</td>\n",
       "      <td>0.0</td>\n",
       "      <td>1.0</td>\n",
       "      <td>0.0</td>\n",
       "      <td>0.0</td>\n",
       "      <td>0.0</td>\n",
       "      <td>0.0</td>\n",
       "      <td>0.0</td>\n",
       "    </tr>\n",
       "    <tr>\n",
       "      <th>...</th>\n",
       "      <td>...</td>\n",
       "      <td>...</td>\n",
       "      <td>...</td>\n",
       "      <td>...</td>\n",
       "      <td>...</td>\n",
       "      <td>...</td>\n",
       "      <td>...</td>\n",
       "      <td>...</td>\n",
       "    </tr>\n",
       "    <tr>\n",
       "      <th>195</th>\n",
       "      <td>0.0</td>\n",
       "      <td>0.0</td>\n",
       "      <td>0.0</td>\n",
       "      <td>0.0</td>\n",
       "      <td>0.0</td>\n",
       "      <td>0.0</td>\n",
       "      <td>0.0</td>\n",
       "      <td>0.0</td>\n",
       "    </tr>\n",
       "    <tr>\n",
       "      <th>196</th>\n",
       "      <td>0.0</td>\n",
       "      <td>0.0</td>\n",
       "      <td>0.0</td>\n",
       "      <td>1.0</td>\n",
       "      <td>0.0</td>\n",
       "      <td>0.0</td>\n",
       "      <td>0.0</td>\n",
       "      <td>1.0</td>\n",
       "    </tr>\n",
       "    <tr>\n",
       "      <th>197</th>\n",
       "      <td>0.0</td>\n",
       "      <td>0.0</td>\n",
       "      <td>1.0</td>\n",
       "      <td>0.0</td>\n",
       "      <td>1.0</td>\n",
       "      <td>0.0</td>\n",
       "      <td>0.0</td>\n",
       "      <td>0.0</td>\n",
       "    </tr>\n",
       "    <tr>\n",
       "      <th>198</th>\n",
       "      <td>0.0</td>\n",
       "      <td>1.0</td>\n",
       "      <td>0.0</td>\n",
       "      <td>0.0</td>\n",
       "      <td>0.0</td>\n",
       "      <td>0.0</td>\n",
       "      <td>1.0</td>\n",
       "      <td>0.0</td>\n",
       "    </tr>\n",
       "    <tr>\n",
       "      <th>199</th>\n",
       "      <td>0.0</td>\n",
       "      <td>1.0</td>\n",
       "      <td>0.0</td>\n",
       "      <td>0.0</td>\n",
       "      <td>0.0</td>\n",
       "      <td>0.0</td>\n",
       "      <td>1.0</td>\n",
       "      <td>0.0</td>\n",
       "    </tr>\n",
       "  </tbody>\n",
       "</table>\n",
       "<p>200 rows × 8 columns</p>\n",
       "</div>"
      ],
      "text/plain": [
       "     rental_duration_4  rental_duration_5  rental_duration_6  \\\n",
       "0                  1.0                0.0                0.0   \n",
       "1                  0.0                0.0                0.0   \n",
       "2                  0.0                0.0                0.0   \n",
       "3                  0.0                1.0                0.0   \n",
       "4                  0.0                0.0                1.0   \n",
       "..                 ...                ...                ...   \n",
       "195                0.0                0.0                0.0   \n",
       "196                0.0                0.0                0.0   \n",
       "197                0.0                0.0                1.0   \n",
       "198                0.0                1.0                0.0   \n",
       "199                0.0                1.0                0.0   \n",
       "\n",
       "     rental_duration_7  rating_NC-17  rating_PG  rating_PG-13  rating_R  \n",
       "0                  0.0           1.0        0.0           0.0       0.0  \n",
       "1                  0.0           0.0        0.0           1.0       0.0  \n",
       "2                  1.0           1.0        0.0           0.0       0.0  \n",
       "3                  0.0           0.0        0.0           1.0       0.0  \n",
       "4                  0.0           0.0        0.0           0.0       0.0  \n",
       "..                 ...           ...        ...           ...       ...  \n",
       "195                0.0           0.0        0.0           0.0       0.0  \n",
       "196                1.0           0.0        0.0           0.0       1.0  \n",
       "197                0.0           1.0        0.0           0.0       0.0  \n",
       "198                0.0           0.0        0.0           1.0       0.0  \n",
       "199                0.0           0.0        0.0           1.0       0.0  \n",
       "\n",
       "[200 rows x 8 columns]"
      ]
     },
     "execution_count": 34,
     "metadata": {},
     "output_type": "execute_result"
    }
   ],
   "source": [
    "encoder = OneHotEncoder(drop='first').fit(X_test_cat)\n",
    "encoded_cat = encoder.transform(X_test_cat).toarray()\n",
    "cols = encoder.get_feature_names_out(input_features=X_test_cat.columns)\n",
    "# reuse encoder \n",
    "X_test_cat = pd.DataFrame(encoded_cat, columns=cols)\n",
    "X_test_cat"
   ]
  },
  {
   "cell_type": "code",
   "execution_count": 35,
   "id": "e2eab4e0",
   "metadata": {},
   "outputs": [
    {
     "data": {
      "text/plain": [
       "array([[0.5       , 0.65467626, 0.29411765, ..., 0.        , 0.        ,\n",
       "        0.        ],\n",
       "       [0.        , 0.94964029, 0.97058824, ..., 0.        , 1.        ,\n",
       "        0.        ],\n",
       "       [0.        , 0.25179856, 0.70588235, ..., 0.        , 0.        ,\n",
       "        0.        ],\n",
       "       ...,\n",
       "       [0.5       , 0.38129496, 0.38235294, ..., 0.        , 0.        ,\n",
       "        0.        ],\n",
       "       [1.        , 0.94964029, 0.67647059, ..., 0.        , 1.        ,\n",
       "        0.        ],\n",
       "       [0.        , 0.48920863, 0.64705882, ..., 0.        , 1.        ,\n",
       "        0.        ]])"
      ]
     },
     "execution_count": 35,
     "metadata": {},
     "output_type": "execute_result"
    }
   ],
   "source": [
    "#Concatenate the tranformed X_test numerical normalized with the encoded X_test_cat\n",
    "\n",
    "X_test_transformed = np.concatenate([X_test_norm, X_test_cat], axis=1)\n",
    "X_test_transformed"
   ]
  },
  {
   "cell_type": "markdown",
   "id": "8f703af7",
   "metadata": {},
   "source": [
    "## Lab | predictions-logistic-regression | 7 | Modeling"
   ]
  },
  {
   "cell_type": "code",
   "execution_count": 36,
   "id": "fa1a8360",
   "metadata": {},
   "outputs": [],
   "source": [
    "#logistic regression model\n",
    "\n",
    "from sklearn.linear_model import LogisticRegression\n",
    "classification = LogisticRegression(random_state=0, solver='saga',\n",
    "                  multi_class='multinomial').fit(X_train_transformed, y_train)"
   ]
  },
  {
   "cell_type": "code",
   "execution_count": 37,
   "id": "36dd1870",
   "metadata": {},
   "outputs": [
    {
     "data": {
      "text/plain": [
       "0.795"
      ]
     },
     "execution_count": 37,
     "metadata": {},
     "output_type": "execute_result"
    }
   ],
   "source": [
    "predictions = classification.predict(X_test_transformed)\n",
    "predictions\n",
    "classification.score(X_test_transformed, y_test)"
   ]
  },
  {
   "cell_type": "code",
   "execution_count": 38,
   "id": "76ea9122",
   "metadata": {},
   "outputs": [
    {
     "data": {
      "text/plain": [
       "array([1, 1, 1, 1, 1, 1, 1, 1, 0, 1, 1, 1, 1, 0, 0, 1, 1, 0, 1, 1, 0, 1,\n",
       "       0, 1, 0, 1, 0, 1, 0, 1, 1, 1, 1, 1, 0, 1, 1, 1, 1, 0, 1, 1, 1, 1,\n",
       "       1, 0, 1, 1, 1, 1, 1, 1, 0, 1, 1, 1, 1, 1, 1, 1, 0, 1, 0, 1, 0, 1,\n",
       "       1, 1, 1, 1, 0, 1, 0, 0, 1, 1, 0, 1, 1, 1, 1, 1, 1, 1, 1, 1, 1, 1,\n",
       "       0, 1, 1, 1, 0, 1, 1, 1, 1, 1, 1, 1, 1, 1, 1, 1, 0, 1, 1, 1, 1, 1,\n",
       "       1, 1, 1, 0, 0, 1, 0, 1, 1, 1, 1, 1, 0, 0, 1, 1, 0, 1, 0, 0, 1, 1,\n",
       "       1, 0, 1, 1, 1, 1, 1, 1, 1, 0, 1, 1, 1, 1, 1, 1, 1, 1, 1, 1, 0, 1,\n",
       "       1, 1, 0, 1, 1, 0, 1, 1, 1, 1, 0, 0, 1, 1, 1, 1, 0, 1, 1, 0, 1, 0,\n",
       "       1, 1, 1, 1, 0, 0, 1, 1, 1, 1, 1, 1, 0, 0, 1, 1, 1, 1, 0, 1, 1, 1,\n",
       "       1, 1], dtype=int64)"
      ]
     },
     "execution_count": 38,
     "metadata": {},
     "output_type": "execute_result"
    }
   ],
   "source": [
    "predictions"
   ]
  },
  {
   "cell_type": "code",
   "execution_count": 39,
   "id": "8b303f92",
   "metadata": {},
   "outputs": [
    {
     "name": "stdout",
     "output_type": "stream",
     "text": [
      "1    135\n",
      "0     65\n",
      "Name: rented_in_may, dtype: int64\n"
     ]
    }
   ],
   "source": [
    "print(y_test.value_counts())"
   ]
  },
  {
   "cell_type": "code",
   "execution_count": 40,
   "id": "c9edaada",
   "metadata": {},
   "outputs": [
    {
     "data": {
      "text/plain": [
       "array([[ 35,  30],\n",
       "       [ 11, 124]], dtype=int64)"
      ]
     },
     "execution_count": 40,
     "metadata": {},
     "output_type": "execute_result"
    }
   ],
   "source": [
    "from sklearn.metrics import confusion_matrix\n",
    "confusion_matrix(y_test, predictions)"
   ]
  },
  {
   "cell_type": "code",
   "execution_count": 41,
   "id": "9fa3583b",
   "metadata": {},
   "outputs": [
    {
     "data": {
      "text/plain": [
       "KNeighborsClassifier()"
      ]
     },
     "execution_count": 41,
     "metadata": {},
     "output_type": "execute_result"
    }
   ],
   "source": [
    "from sklearn import neighbors\n",
    "clf = neighbors.KNeighborsClassifier(n_neighbors=5, weights='uniform')\n",
    "clf.fit(X_train_transformed, y_train)"
   ]
  },
  {
   "cell_type": "code",
   "execution_count": 42,
   "id": "bf6be193",
   "metadata": {},
   "outputs": [
    {
     "data": {
      "text/html": [
       "<div>\n",
       "<style scoped>\n",
       "    .dataframe tbody tr th:only-of-type {\n",
       "        vertical-align: middle;\n",
       "    }\n",
       "\n",
       "    .dataframe tbody tr th {\n",
       "        vertical-align: top;\n",
       "    }\n",
       "\n",
       "    .dataframe thead th {\n",
       "        text-align: right;\n",
       "    }\n",
       "</style>\n",
       "<table border=\"1\" class=\"dataframe\">\n",
       "  <thead>\n",
       "    <tr style=\"text-align: right;\">\n",
       "      <th></th>\n",
       "      <th>rental_rate</th>\n",
       "      <th>length</th>\n",
       "      <th>num_rentals</th>\n",
       "    </tr>\n",
       "  </thead>\n",
       "  <tbody>\n",
       "    <tr>\n",
       "      <th>0</th>\n",
       "      <td>0.5</td>\n",
       "      <td>0.258993</td>\n",
       "      <td>0.264706</td>\n",
       "    </tr>\n",
       "    <tr>\n",
       "      <th>1</th>\n",
       "      <td>0.5</td>\n",
       "      <td>0.136691</td>\n",
       "      <td>0.411765</td>\n",
       "    </tr>\n",
       "    <tr>\n",
       "      <th>2</th>\n",
       "      <td>0.0</td>\n",
       "      <td>0.489209</td>\n",
       "      <td>0.470588</td>\n",
       "    </tr>\n",
       "    <tr>\n",
       "      <th>3</th>\n",
       "      <td>0.5</td>\n",
       "      <td>0.179856</td>\n",
       "      <td>0.147059</td>\n",
       "    </tr>\n",
       "    <tr>\n",
       "      <th>4</th>\n",
       "      <td>0.5</td>\n",
       "      <td>0.280576</td>\n",
       "      <td>0.294118</td>\n",
       "    </tr>\n",
       "  </tbody>\n",
       "</table>\n",
       "</div>"
      ],
      "text/plain": [
       "   rental_rate    length  num_rentals\n",
       "0          0.5  0.258993     0.264706\n",
       "1          0.5  0.136691     0.411765\n",
       "2          0.0  0.489209     0.470588\n",
       "3          0.5  0.179856     0.147059\n",
       "4          0.5  0.280576     0.294118"
      ]
     },
     "execution_count": 42,
     "metadata": {},
     "output_type": "execute_result"
    }
   ],
   "source": [
    "from sklearn.preprocessing import MinMaxScaler\n",
    "# from sklearn.preprocessing import StandardScaler\n",
    "\n",
    "# fit transformer/scaler on X_train_num\n",
    "X_train_num = X_train.select_dtypes(include = np.number)\n",
    "\n",
    "# Scaling data\n",
    "transformer = MinMaxScaler().fit(X_train_num) # need to keep transformer\n",
    "X_train_normalized = transformer.transform(X_train_num)\n",
    "X_train_norm = pd.DataFrame(X_train_normalized, columns=X_train_num.columns)\n",
    "X_train_norm.head()"
   ]
  },
  {
   "cell_type": "code",
   "execution_count": 43,
   "id": "2f7d1b26",
   "metadata": {},
   "outputs": [
    {
     "data": {
      "text/plain": [
       "0.695"
      ]
     },
     "execution_count": 43,
     "metadata": {},
     "output_type": "execute_result"
    }
   ],
   "source": [
    "predictions_clf = clf.predict(X_test_transformed)\n",
    "clf.score(X_test_transformed, y_test)"
   ]
  }
 ],
 "metadata": {
  "kernelspec": {
   "display_name": "Python 3 (ipykernel)",
   "language": "python",
   "name": "python3"
  },
  "language_info": {
   "codemirror_mode": {
    "name": "ipython",
    "version": 3
   },
   "file_extension": ".py",
   "mimetype": "text/x-python",
   "name": "python",
   "nbconvert_exporter": "python",
   "pygments_lexer": "ipython3",
   "version": "3.9.12"
  }
 },
 "nbformat": 4,
 "nbformat_minor": 5
}
